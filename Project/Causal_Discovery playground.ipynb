{
 "cells": [
  {
   "cell_type": "code",
   "execution_count": 13,
   "outputs": [
    {
     "name": "stderr",
     "output_type": "stream",
     "text": [
      "ERROR: Could not find a version that satisfies the requirement py-causal (from versions: none)\n",
      "ERROR: No matching distribution found for py-causal\n",
      "\n",
      "[notice] A new release of pip available: 22.3.1 -> 25.1.1\n",
      "[notice] To update, run: python.exe -m pip install --upgrade pip\n"
     ]
    },
    {
     "name": "stdout",
     "output_type": "stream",
     "text": [
      "Requirement already satisfied: cdt in c:\\users\\dnedi\\pycharmprojects\\causaldiscoveryproject\\venv\\lib\\site-packages (0.6.0)\n",
      "Requirement already satisfied: numpy in c:\\users\\dnedi\\pycharmprojects\\causaldiscoveryproject\\venv\\lib\\site-packages (from cdt) (1.26.4)\n",
      "Requirement already satisfied: scikit-learn in c:\\users\\dnedi\\pycharmprojects\\causaldiscoveryproject\\venv\\lib\\site-packages (from cdt) (1.6.1)\n",
      "Requirement already satisfied: networkx in c:\\users\\dnedi\\pycharmprojects\\causaldiscoveryproject\\venv\\lib\\site-packages (from cdt) (3.2.1)\n",
      "Requirement already satisfied: tqdm in c:\\users\\dnedi\\pycharmprojects\\causaldiscoveryproject\\venv\\lib\\site-packages (from cdt) (4.67.1)\n",
      "Requirement already satisfied: joblib in c:\\users\\dnedi\\pycharmprojects\\causaldiscoveryproject\\venv\\lib\\site-packages (from cdt) (1.5.0)\n",
      "Requirement already satisfied: pandas in c:\\users\\dnedi\\pycharmprojects\\causaldiscoveryproject\\venv\\lib\\site-packages (from cdt) (2.2.3)\n",
      "Requirement already satisfied: skrebate in c:\\users\\dnedi\\pycharmprojects\\causaldiscoveryproject\\venv\\lib\\site-packages (from cdt) (0.62)\n",
      "Requirement already satisfied: GPUtil in c:\\users\\dnedi\\pycharmprojects\\causaldiscoveryproject\\venv\\lib\\site-packages (from cdt) (1.4.0)\n",
      "Requirement already satisfied: statsmodels in c:\\users\\dnedi\\pycharmprojects\\causaldiscoveryproject\\venv\\lib\\site-packages (from cdt) (0.14.4)\n",
      "Requirement already satisfied: requests in c:\\users\\dnedi\\pycharmprojects\\causaldiscoveryproject\\venv\\lib\\site-packages (from cdt) (2.32.3)\n",
      "Requirement already satisfied: scipy in c:\\users\\dnedi\\pycharmprojects\\causaldiscoveryproject\\venv\\lib\\site-packages (from cdt) (1.13.1)\n",
      "Requirement already satisfied: tzdata>=2022.7 in c:\\users\\dnedi\\pycharmprojects\\causaldiscoveryproject\\venv\\lib\\site-packages (from pandas->cdt) (2025.2)\n",
      "Requirement already satisfied: pytz>=2020.1 in c:\\users\\dnedi\\pycharmprojects\\causaldiscoveryproject\\venv\\lib\\site-packages (from pandas->cdt) (2025.2)\n",
      "Requirement already satisfied: python-dateutil>=2.8.2 in c:\\users\\dnedi\\pycharmprojects\\causaldiscoveryproject\\venv\\lib\\site-packages (from pandas->cdt) (2.9.0.post0)\n",
      "Requirement already satisfied: idna<4,>=2.5 in c:\\users\\dnedi\\pycharmprojects\\causaldiscoveryproject\\venv\\lib\\site-packages (from requests->cdt) (3.10)\n",
      "Requirement already satisfied: charset-normalizer<4,>=2 in c:\\users\\dnedi\\pycharmprojects\\causaldiscoveryproject\\venv\\lib\\site-packages (from requests->cdt) (3.4.2)\n",
      "Requirement already satisfied: urllib3<3,>=1.21.1 in c:\\users\\dnedi\\pycharmprojects\\causaldiscoveryproject\\venv\\lib\\site-packages (from requests->cdt) (2.4.0)\n",
      "Requirement already satisfied: certifi>=2017.4.17 in c:\\users\\dnedi\\pycharmprojects\\causaldiscoveryproject\\venv\\lib\\site-packages (from requests->cdt) (2025.4.26)\n",
      "Requirement already satisfied: threadpoolctl>=3.1.0 in c:\\users\\dnedi\\pycharmprojects\\causaldiscoveryproject\\venv\\lib\\site-packages (from scikit-learn->cdt) (3.6.0)\n",
      "Requirement already satisfied: patsy>=0.5.6 in c:\\users\\dnedi\\pycharmprojects\\causaldiscoveryproject\\venv\\lib\\site-packages (from statsmodels->cdt) (1.0.1)\n",
      "Requirement already satisfied: packaging>=21.3 in c:\\users\\dnedi\\pycharmprojects\\causaldiscoveryproject\\venv\\lib\\site-packages (from statsmodels->cdt) (25.0)\n",
      "Requirement already satisfied: colorama in c:\\users\\dnedi\\pycharmprojects\\causaldiscoveryproject\\venv\\lib\\site-packages (from tqdm->cdt) (0.4.6)\n",
      "Requirement already satisfied: six>=1.5 in c:\\users\\dnedi\\pycharmprojects\\causaldiscoveryproject\\venv\\lib\\site-packages (from python-dateutil>=2.8.2->pandas->cdt) (1.17.0)\n"
     ]
    },
    {
     "name": "stderr",
     "output_type": "stream",
     "text": [
      "\n",
      "[notice] A new release of pip available: 22.3.1 -> 25.1.1\n",
      "[notice] To update, run: python.exe -m pip install --upgrade pip\n"
     ]
    },
    {
     "name": "stdout",
     "output_type": "stream",
     "text": [
      "Requirement already satisfied: causalearn in c:\\users\\dnedi\\pycharmprojects\\causaldiscoveryproject\\venv\\lib\\site-packages (0.0.1)"
     ]
    },
    {
     "name": "stderr",
     "output_type": "stream",
     "text": [
      "\n",
      "[notice] A new release of pip available: 22.3.1 -> 25.1.1\n",
      "[notice] To update, run: python.exe -m pip install --upgrade pip\n"
     ]
    },
    {
     "name": "stdout",
     "output_type": "stream",
     "text": [
      "\n",
      "Requirement already satisfied: castle in c:\\users\\dnedi\\pycharmprojects\\causaldiscoveryproject\\venv\\lib\\site-packages (6.1.0)\n",
      "Requirement already satisfied: requests>=2.5 in c:\\users\\dnedi\\pycharmprojects\\causaldiscoveryproject\\venv\\lib\\site-packages (from castle) (2.32.3)\n",
      "Requirement already satisfied: certifi>=2017.4.17 in c:\\users\\dnedi\\pycharmprojects\\causaldiscoveryproject\\venv\\lib\\site-packages (from requests>=2.5->castle) (2025.4.26)\n",
      "Requirement already satisfied: urllib3<3,>=1.21.1 in c:\\users\\dnedi\\pycharmprojects\\causaldiscoveryproject\\venv\\lib\\site-packages (from requests>=2.5->castle) (2.4.0)\n",
      "Requirement already satisfied: charset-normalizer<4,>=2 in c:\\users\\dnedi\\pycharmprojects\\causaldiscoveryproject\\venv\\lib\\site-packages (from requests>=2.5->castle) (3.4.2)\n",
      "Requirement already satisfied: idna<4,>=2.5 in c:\\users\\dnedi\\pycharmprojects\\causaldiscoveryproject\\venv\\lib\\site-packages (from requests>=2.5->castle) (3.10)\n"
     ]
    },
    {
     "name": "stderr",
     "output_type": "stream",
     "text": [
      "\n",
      "[notice] A new release of pip available: 22.3.1 -> 25.1.1\n",
      "[notice] To update, run: python.exe -m pip install --upgrade pip\n",
      "ERROR: Could not find a version that satisfies the requirement notears (from versions: none)\n",
      "ERROR: No matching distribution found for notears\n",
      "\n",
      "[notice] A new release of pip available: 22.3.1 -> 25.1.1\n",
      "[notice] To update, run: python.exe -m pip install --upgrade pip\n",
      "ERROR: Could not find a version that satisfies the requirement lingan (from versions: none)\n",
      "ERROR: No matching distribution found for lingan\n",
      "\n",
      "[notice] A new release of pip available: 22.3.1 -> 25.1.1\n",
      "[notice] To update, run: python.exe -m pip install --upgrade pip\n"
     ]
    },
    {
     "name": "stdout",
     "output_type": "stream",
     "text": [
      "Requirement already satisfied: torch in c:\\users\\dnedi\\pycharmprojects\\causaldiscoveryproject\\venv\\lib\\site-packages (2.7.0)\n",
      "Requirement already satisfied: jinja2 in c:\\users\\dnedi\\pycharmprojects\\causaldiscoveryproject\\venv\\lib\\site-packages (from torch) (3.1.6)\n",
      "Requirement already satisfied: typing-extensions>=4.10.0 in c:\\users\\dnedi\\pycharmprojects\\causaldiscoveryproject\\venv\\lib\\site-packages (from torch) (4.13.2)\n",
      "Requirement already satisfied: networkx in c:\\users\\dnedi\\pycharmprojects\\causaldiscoveryproject\\venv\\lib\\site-packages (from torch) (3.2.1)\n",
      "Requirement already satisfied: sympy>=1.13.3 in c:\\users\\dnedi\\pycharmprojects\\causaldiscoveryproject\\venv\\lib\\site-packages (from torch) (1.14.0)\n",
      "Requirement already satisfied: filelock in c:\\users\\dnedi\\pycharmprojects\\causaldiscoveryproject\\venv\\lib\\site-packages (from torch) (3.18.0)\n",
      "Requirement already satisfied: fsspec in c:\\users\\dnedi\\pycharmprojects\\causaldiscoveryproject\\venv\\lib\\site-packages (from torch) (2025.3.2)\n",
      "Requirement already satisfied: mpmath<1.4,>=1.1.0 in c:\\users\\dnedi\\pycharmprojects\\causaldiscoveryproject\\venv\\lib\\site-packages (from sympy>=1.13.3->torch) (1.3.0)\n",
      "Requirement already satisfied: MarkupSafe>=2.0 in c:\\users\\dnedi\\pycharmprojects\\causaldiscoveryproject\\venv\\lib\\site-packages (from jinja2->torch) (3.0.2)\n"
     ]
    },
    {
     "name": "stderr",
     "output_type": "stream",
     "text": [
      "\n",
      "[notice] A new release of pip available: 22.3.1 -> 25.1.1\n",
      "[notice] To update, run: python.exe -m pip install --upgrade pip\n"
     ]
    },
    {
     "name": "stdout",
     "output_type": "stream",
     "text": [
      "Requirement already satisfied: ucimlrepo in c:\\users\\dnedi\\pycharmprojects\\causaldiscoveryproject\\venv\\lib\\site-packages (0.0.7)\n",
      "Requirement already satisfied: pandas>=1.0.0 in c:\\users\\dnedi\\pycharmprojects\\causaldiscoveryproject\\venv\\lib\\site-packages (from ucimlrepo) (2.2.3)\n",
      "Requirement already satisfied: certifi>=2020.12.5 in c:\\users\\dnedi\\pycharmprojects\\causaldiscoveryproject\\venv\\lib\\site-packages (from ucimlrepo) (2025.4.26)\n",
      "Requirement already satisfied: python-dateutil>=2.8.2 in c:\\users\\dnedi\\pycharmprojects\\causaldiscoveryproject\\venv\\lib\\site-packages (from pandas>=1.0.0->ucimlrepo) (2.9.0.post0)\n",
      "Requirement already satisfied: pytz>=2020.1 in c:\\users\\dnedi\\pycharmprojects\\causaldiscoveryproject\\venv\\lib\\site-packages (from pandas>=1.0.0->ucimlrepo) (2025.2)\n",
      "Requirement already satisfied: tzdata>=2022.7 in c:\\users\\dnedi\\pycharmprojects\\causaldiscoveryproject\\venv\\lib\\site-packages (from pandas>=1.0.0->ucimlrepo) (2025.2)\n",
      "Requirement already satisfied: numpy>=1.22.4 in c:\\users\\dnedi\\pycharmprojects\\causaldiscoveryproject\\venv\\lib\\site-packages (from pandas>=1.0.0->ucimlrepo) (1.26.4)\n",
      "Requirement already satisfied: six>=1.5 in c:\\users\\dnedi\\pycharmprojects\\causaldiscoveryproject\\venv\\lib\\site-packages (from python-dateutil>=2.8.2->pandas>=1.0.0->ucimlrepo) (1.17.0)\n"
     ]
    },
    {
     "name": "stderr",
     "output_type": "stream",
     "text": [
      "\n",
      "[notice] A new release of pip available: 22.3.1 -> 25.1.1\n",
      "[notice] To update, run: python.exe -m pip install --upgrade pip\n",
      "ERROR: Could not find a version that satisfies the requirement py-causal (from versions: none)\n",
      "ERROR: No matching distribution found for py-causal\n",
      "\n",
      "[notice] A new release of pip available: 22.3.1 -> 25.1.1\n",
      "[notice] To update, run: python.exe -m pip install --upgrade pip\n"
     ]
    },
    {
     "name": "stdout",
     "output_type": "stream",
     "text": [
      "Requirement already satisfied: cdt in c:\\users\\dnedi\\pycharmprojects\\causaldiscoveryproject\\venv\\lib\\site-packages (0.6.0)\n",
      "Requirement already satisfied: scipy in c:\\users\\dnedi\\pycharmprojects\\causaldiscoveryproject\\venv\\lib\\site-packages (from cdt) (1.13.1)\n",
      "Requirement already satisfied: scikit-learn in c:\\users\\dnedi\\pycharmprojects\\causaldiscoveryproject\\venv\\lib\\site-packages (from cdt) (1.6.1)\n",
      "Requirement already satisfied: numpy in c:\\users\\dnedi\\pycharmprojects\\causaldiscoveryproject\\venv\\lib\\site-packages (from cdt) (1.26.4)\n",
      "Requirement already satisfied: joblib in c:\\users\\dnedi\\pycharmprojects\\causaldiscoveryproject\\venv\\lib\\site-packages (from cdt) (1.5.0)\n",
      "Requirement already satisfied: tqdm in c:\\users\\dnedi\\pycharmprojects\\causaldiscoveryproject\\venv\\lib\\site-packages (from cdt) (4.67.1)\n",
      "Requirement already satisfied: requests in c:\\users\\dnedi\\pycharmprojects\\causaldiscoveryproject\\venv\\lib\\site-packages (from cdt) (2.32.3)\n",
      "Requirement already satisfied: pandas in c:\\users\\dnedi\\pycharmprojects\\causaldiscoveryproject\\venv\\lib\\site-packages (from cdt) (2.2.3)\n",
      "Requirement already satisfied: statsmodels in c:\\users\\dnedi\\pycharmprojects\\causaldiscoveryproject\\venv\\lib\\site-packages (from cdt) (0.14.4)\n",
      "Requirement already satisfied: skrebate in c:\\users\\dnedi\\pycharmprojects\\causaldiscoveryproject\\venv\\lib\\site-packages (from cdt) (0.62)\n",
      "Requirement already satisfied: networkx in c:\\users\\dnedi\\pycharmprojects\\causaldiscoveryproject\\venv\\lib\\site-packages (from cdt) (3.2.1)\n",
      "Requirement already satisfied: GPUtil in c:\\users\\dnedi\\pycharmprojects\\causaldiscoveryproject\\venv\\lib\\site-packages (from cdt) (1.4.0)\n",
      "Requirement already satisfied: tzdata>=2022.7 in c:\\users\\dnedi\\pycharmprojects\\causaldiscoveryproject\\venv\\lib\\site-packages (from pandas->cdt) (2025.2)\n",
      "Requirement already satisfied: python-dateutil>=2.8.2 in c:\\users\\dnedi\\pycharmprojects\\causaldiscoveryproject\\venv\\lib\\site-packages (from pandas->cdt) (2.9.0.post0)\n",
      "Requirement already satisfied: pytz>=2020.1 in c:\\users\\dnedi\\pycharmprojects\\causaldiscoveryproject\\venv\\lib\\site-packages (from pandas->cdt) (2025.2)\n",
      "Requirement already satisfied: charset-normalizer<4,>=2 in c:\\users\\dnedi\\pycharmprojects\\causaldiscoveryproject\\venv\\lib\\site-packages (from requests->cdt) (3.4.2)\n",
      "Requirement already satisfied: certifi>=2017.4.17 in c:\\users\\dnedi\\pycharmprojects\\causaldiscoveryproject\\venv\\lib\\site-packages (from requests->cdt) (2025.4.26)\n",
      "Requirement already satisfied: urllib3<3,>=1.21.1 in c:\\users\\dnedi\\pycharmprojects\\causaldiscoveryproject\\venv\\lib\\site-packages (from requests->cdt) (2.4.0)\n",
      "Requirement already satisfied: idna<4,>=2.5 in c:\\users\\dnedi\\pycharmprojects\\causaldiscoveryproject\\venv\\lib\\site-packages (from requests->cdt) (3.10)\n",
      "Requirement already satisfied: threadpoolctl>=3.1.0 in c:\\users\\dnedi\\pycharmprojects\\causaldiscoveryproject\\venv\\lib\\site-packages (from scikit-learn->cdt) (3.6.0)\n",
      "Requirement already satisfied: patsy>=0.5.6 in c:\\users\\dnedi\\pycharmprojects\\causaldiscoveryproject\\venv\\lib\\site-packages (from statsmodels->cdt) (1.0.1)\n",
      "Requirement already satisfied: packaging>=21.3 in c:\\users\\dnedi\\pycharmprojects\\causaldiscoveryproject\\venv\\lib\\site-packages (from statsmodels->cdt) (25.0)\n",
      "Requirement already satisfied: colorama in c:\\users\\dnedi\\pycharmprojects\\causaldiscoveryproject\\venv\\lib\\site-packages (from tqdm->cdt) (0.4.6)\n",
      "Requirement already satisfied: six>=1.5 in c:\\users\\dnedi\\pycharmprojects\\causaldiscoveryproject\\venv\\lib\\site-packages (from python-dateutil>=2.8.2->pandas->cdt) (1.17.0)\n"
     ]
    },
    {
     "name": "stderr",
     "output_type": "stream",
     "text": [
      "\n",
      "[notice] A new release of pip available: 22.3.1 -> 25.1.1\n",
      "[notice] To update, run: python.exe -m pip install --upgrade pip\n"
     ]
    },
    {
     "name": "stdout",
     "output_type": "stream",
     "text": [
      "Requirement already satisfied: causalearn in c:\\users\\dnedi\\pycharmprojects\\causaldiscoveryproject\\venv\\lib\\site-packages (0.0.1)"
     ]
    },
    {
     "name": "stderr",
     "output_type": "stream",
     "text": [
      "\n",
      "[notice] A new release of pip available: 22.3.1 -> 25.1.1\n",
      "[notice] To update, run: python.exe -m pip install --upgrade pip\n"
     ]
    },
    {
     "name": "stdout",
     "output_type": "stream",
     "text": [
      "\n",
      "Requirement already satisfied: castle in c:\\users\\dnedi\\pycharmprojects\\causaldiscoveryproject\\venv\\lib\\site-packages (6.1.0)\n",
      "Requirement already satisfied: requests>=2.5 in c:\\users\\dnedi\\pycharmprojects\\causaldiscoveryproject\\venv\\lib\\site-packages (from castle) (2.32.3)\n",
      "Requirement already satisfied: certifi>=2017.4.17 in c:\\users\\dnedi\\pycharmprojects\\causaldiscoveryproject\\venv\\lib\\site-packages (from requests>=2.5->castle) (2025.4.26)\n",
      "Requirement already satisfied: urllib3<3,>=1.21.1 in c:\\users\\dnedi\\pycharmprojects\\causaldiscoveryproject\\venv\\lib\\site-packages (from requests>=2.5->castle) (2.4.0)\n",
      "Requirement already satisfied: idna<4,>=2.5 in c:\\users\\dnedi\\pycharmprojects\\causaldiscoveryproject\\venv\\lib\\site-packages (from requests>=2.5->castle) (3.10)\n",
      "Requirement already satisfied: charset-normalizer<4,>=2 in c:\\users\\dnedi\\pycharmprojects\\causaldiscoveryproject\\venv\\lib\\site-packages (from requests>=2.5->castle) (3.4.2)\n"
     ]
    },
    {
     "name": "stderr",
     "output_type": "stream",
     "text": [
      "\n",
      "[notice] A new release of pip available: 22.3.1 -> 25.1.1\n",
      "[notice] To update, run: python.exe -m pip install --upgrade pip\n",
      "ERROR: Could not find a version that satisfies the requirement notears (from versions: none)\n",
      "ERROR: No matching distribution found for notears\n",
      "\n",
      "[notice] A new release of pip available: 22.3.1 -> 25.1.1\n",
      "[notice] To update, run: python.exe -m pip install --upgrade pip\n",
      "ERROR: Could not find a version that satisfies the requirement lingan (from versions: none)\n",
      "ERROR: No matching distribution found for lingan\n",
      "\n",
      "[notice] A new release of pip available: 22.3.1 -> 25.1.1\n",
      "[notice] To update, run: python.exe -m pip install --upgrade pip\n"
     ]
    },
    {
     "name": "stdout",
     "output_type": "stream",
     "text": [
      "Requirement already satisfied: torch in c:\\users\\dnedi\\pycharmprojects\\causaldiscoveryproject\\venv\\lib\\site-packages (2.7.0)"
     ]
    },
    {
     "name": "stderr",
     "output_type": "stream",
     "text": [
      "\n",
      "[notice] A new release of pip available: 22.3.1 -> 25.1.1\n",
      "[notice] To update, run: python.exe -m pip install --upgrade pip\n"
     ]
    },
    {
     "name": "stdout",
     "output_type": "stream",
     "text": [
      "\n",
      "Requirement already satisfied: jinja2 in c:\\users\\dnedi\\pycharmprojects\\causaldiscoveryproject\\venv\\lib\\site-packages (from torch) (3.1.6)\n",
      "Requirement already satisfied: fsspec in c:\\users\\dnedi\\pycharmprojects\\causaldiscoveryproject\\venv\\lib\\site-packages (from torch) (2025.3.2)\n",
      "Requirement already satisfied: typing-extensions>=4.10.0 in c:\\users\\dnedi\\pycharmprojects\\causaldiscoveryproject\\venv\\lib\\site-packages (from torch) (4.13.2)\n",
      "Requirement already satisfied: sympy>=1.13.3 in c:\\users\\dnedi\\pycharmprojects\\causaldiscoveryproject\\venv\\lib\\site-packages (from torch) (1.14.0)\n",
      "Requirement already satisfied: filelock in c:\\users\\dnedi\\pycharmprojects\\causaldiscoveryproject\\venv\\lib\\site-packages (from torch) (3.18.0)\n",
      "Requirement already satisfied: networkx in c:\\users\\dnedi\\pycharmprojects\\causaldiscoveryproject\\venv\\lib\\site-packages (from torch) (3.2.1)\n",
      "Requirement already satisfied: mpmath<1.4,>=1.1.0 in c:\\users\\dnedi\\pycharmprojects\\causaldiscoveryproject\\venv\\lib\\site-packages (from sympy>=1.13.3->torch) (1.3.0)\n",
      "Requirement already satisfied: MarkupSafe>=2.0 in c:\\users\\dnedi\\pycharmprojects\\causaldiscoveryproject\\venv\\lib\\site-packages (from jinja2->torch) (3.0.2)\n"
     ]
    }
   ],
   "source": [
    "!pip install ucimlrepo\n",
    "!pip install pycausal\n",
    "!pip install cdt\n",
    "!pip install causalearn\n",
    "!pip install gcastle\n",
    "!pip install notears\n",
    "!pip install lingan\n",
    "!pip install torch\n",
    "!pip install --upgrade pip"
   ],
   "metadata": {
    "collapsed": false,
    "ExecuteTime": {
     "start_time": "2025-05-12T20:40:43.528637Z",
     "end_time": "2025-05-12T20:42:17.143583Z"
    }
   }
  },
  {
   "cell_type": "code",
   "execution_count": 3,
   "outputs": [],
   "source": [
    "import pandas as pd\n",
    "from ucimlrepo import fetch_ucirepo\n",
    "\n",
    "wine_quality = fetch_ucirepo(id=186)\n",
    "X = wine_quality.data.features\n",
    "y = wine_quality.data.targets\n",
    "\n",
    "\n",
    "wine_data = pd.DataFrame(X)\n",
    "wine_data[\"quality\"] = pd.DataFrame(y)\n"
   ],
   "metadata": {
    "collapsed": false,
    "ExecuteTime": {
     "start_time": "2025-05-13T13:03:10.925426Z",
     "end_time": "2025-05-13T13:03:12.764647Z"
    }
   }
  },
  {
   "cell_type": "code",
   "execution_count": 8,
   "outputs": [
    {
     "ename": "ImportError",
     "evalue": "R Package (k)pcalg/RCIT is not available. RCIT has to be installed from https://github.com/Diviyan-Kalainathan/RCIT",
     "output_type": "error",
     "traceback": [
      "\u001B[1;31m---------------------------------------------------------------------------\u001B[0m",
      "\u001B[1;31mImportError\u001B[0m                               Traceback (most recent call last)",
      "Cell \u001B[1;32mIn[8], line 7\u001B[0m\n\u001B[0;32m      3\u001B[0m \u001B[38;5;28;01mimport\u001B[39;00m\u001B[38;5;250m \u001B[39m\u001B[38;5;21;01mmatplotlib\u001B[39;00m\u001B[38;5;21;01m.\u001B[39;00m\u001B[38;5;21;01mpyplot\u001B[39;00m\u001B[38;5;250m \u001B[39m\u001B[38;5;28;01mas\u001B[39;00m\u001B[38;5;250m \u001B[39m\u001B[38;5;21;01mplt\u001B[39;00m\n\u001B[0;32m      5\u001B[0m data \u001B[38;5;241m=\u001B[39m wine_data\u001B[38;5;241m.\u001B[39msample(\u001B[38;5;241m1000\u001B[39m)\n\u001B[1;32m----> 7\u001B[0m model \u001B[38;5;241m=\u001B[39m \u001B[43mPC\u001B[49m\u001B[43m(\u001B[49m\u001B[43m)\u001B[49m\n\u001B[0;32m      8\u001B[0m output_graph \u001B[38;5;241m=\u001B[39m model\u001B[38;5;241m.\u001B[39mpredict(data)\n\u001B[0;32m     10\u001B[0m \u001B[38;5;66;03m# Visualize the directed graph\u001B[39;00m\n",
      "File \u001B[1;32m~\\PycharmProjects\\CausalDiscoveryProject\\venv\\lib\\site-packages\\cdt\\causality\\graph\\PC.py:176\u001B[0m, in \u001B[0;36mPC.__init__\u001B[1;34m(self, CItest, method_indep, alpha, njobs, verbose)\u001B[0m\n\u001B[0;32m    174\u001B[0m \u001B[38;5;250m\u001B[39m\u001B[38;5;124;03m\"\"\"Init the model and its available arguments.\"\"\"\u001B[39;00m\n\u001B[0;32m    175\u001B[0m \u001B[38;5;28;01mif\u001B[39;00m \u001B[38;5;129;01mnot\u001B[39;00m (RPackages\u001B[38;5;241m.\u001B[39mpcalg \u001B[38;5;129;01mand\u001B[39;00m RPackages\u001B[38;5;241m.\u001B[39mkpcalg \u001B[38;5;129;01mand\u001B[39;00m RPackages\u001B[38;5;241m.\u001B[39mRCIT):\n\u001B[1;32m--> 176\u001B[0m     \u001B[38;5;28;01mraise\u001B[39;00m \u001B[38;5;167;01mImportError\u001B[39;00m(\u001B[38;5;124m\"\u001B[39m\u001B[38;5;124mR Package (k)pcalg/RCIT is not available. \u001B[39m\u001B[38;5;124m\"\u001B[39m\n\u001B[0;32m    177\u001B[0m                       \u001B[38;5;124m\"\u001B[39m\u001B[38;5;124mRCIT has to be installed from \u001B[39m\u001B[38;5;124m\"\u001B[39m\n\u001B[0;32m    178\u001B[0m                       \u001B[38;5;124m\"\u001B[39m\u001B[38;5;124mhttps://github.com/Diviyan-Kalainathan/RCIT\u001B[39m\u001B[38;5;124m\"\u001B[39m)\n\u001B[0;32m    180\u001B[0m \u001B[38;5;28msuper\u001B[39m(PC, \u001B[38;5;28mself\u001B[39m)\u001B[38;5;241m.\u001B[39m\u001B[38;5;21m__init__\u001B[39m()\n\u001B[0;32m    181\u001B[0m \u001B[38;5;28mself\u001B[39m\u001B[38;5;241m.\u001B[39mdir_CI_test \u001B[38;5;241m=\u001B[39m {\u001B[38;5;124m'\u001B[39m\u001B[38;5;124mbinary\u001B[39m\u001B[38;5;124m'\u001B[39m: \u001B[38;5;124m\"\u001B[39m\u001B[38;5;124mpcalg::binCItest\u001B[39m\u001B[38;5;124m\"\u001B[39m, \u001B[38;5;66;03m# ic.method=\\\"dcc\\\"\",\u001B[39;00m\n\u001B[0;32m    182\u001B[0m                          \u001B[38;5;124m'\u001B[39m\u001B[38;5;124mdiscrete\u001B[39m\u001B[38;5;124m'\u001B[39m: \u001B[38;5;124m\"\u001B[39m\u001B[38;5;124mpcalg::disCItest\u001B[39m\u001B[38;5;124m\"\u001B[39m,\n\u001B[0;32m    183\u001B[0m                          \u001B[38;5;124m'\u001B[39m\u001B[38;5;124mhsic_gamma\u001B[39m\u001B[38;5;124m'\u001B[39m: \u001B[38;5;124m\"\u001B[39m\u001B[38;5;124mkpcalg::kernelCItest\u001B[39m\u001B[38;5;124m\"\u001B[39m,\n\u001B[1;32m   (...)\u001B[0m\n\u001B[0;32m    187\u001B[0m                          \u001B[38;5;124m'\u001B[39m\u001B[38;5;124mrcit\u001B[39m\u001B[38;5;124m'\u001B[39m: \u001B[38;5;124m\"\u001B[39m\u001B[38;5;124mRCIT:::CItest\u001B[39m\u001B[38;5;124m\"\u001B[39m,\n\u001B[0;32m    188\u001B[0m                          \u001B[38;5;124m'\u001B[39m\u001B[38;5;124mrcot\u001B[39m\u001B[38;5;124m'\u001B[39m: \u001B[38;5;124m\"\u001B[39m\u001B[38;5;124mRCIT:::CItest\u001B[39m\u001B[38;5;124m\"\u001B[39m}\n",
      "\u001B[1;31mImportError\u001B[0m: R Package (k)pcalg/RCIT is not available. RCIT has to be installed from https://github.com/Diviyan-Kalainathan/RCIT"
     ]
    }
   ],
   "source": [
    "from cdt.causality.graph import PC\n",
    "import networkx as nx\n",
    "import matplotlib.pyplot as plt\n",
    "\n",
    "data = wine_data.sample(1000)\n",
    "\n",
    "model = PC()\n",
    "output_graph = model.predict(data)\n",
    "\n",
    "# Visualize the directed graph\n",
    "pos = nx.spring_layout(output_graph)\n",
    "nx.draw_networkx(output_graph, pos,\n",
    "                 node_size=50, font_size=4)\n",
    "nx.draw_networkx_edge_labels(output_graph, pos,\n",
    "                             font_size=3)\n",
    "\n",
    "plt.savefig(\"CDT_PC.pdf\")"
   ],
   "metadata": {
    "collapsed": false
   }
  },
  {
   "cell_type": "code",
   "execution_count": null,
   "outputs": [],
   "source": [
    "from pycausal.pycausal import pycausal as pc\n",
    "from pycausal import prior as p\n",
    "\n",
    "pc = pc()\n",
    "pc.start_vm()\n",
    "\n",
    "data = wine_data.sample(1000).astype(float)  # must be float\n",
    "result = pc.tetradrunner(\n",
    "    testId='fci',\n",
    "    dataType='continuous',\n",
    "    dataset=data,\n",
    "    maxPathLength=-1,\n",
    "    faithfulnessAssumed=True,\n",
    "    verbose=False\n",
    ")\n",
    "\n",
    "print(result.getTetradGraph())\n"
   ],
   "metadata": {
    "collapsed": false
   }
  },
  {
   "cell_type": "code",
   "execution_count": 5,
   "outputs": [
    {
     "data": {
      "text/plain": "  0%|          | 0/12 [00:00<?, ?it/s]",
      "application/vnd.jupyter.widget-view+json": {
       "version_major": 2,
       "version_minor": 0,
       "model_id": "417e09c9cfd043f1ae0909ed2f5f8463"
      }
     },
     "metadata": {},
     "output_type": "display_data"
    }
   ],
   "source": [
    "from causallearn.search.ConstraintBased.PC import pc\n",
    "from causallearn.utils.GraphUtils import GraphUtils\n",
    "import numpy as np\n",
    "\n",
    "# Use smaller sample for speed\n",
    "data = wine_data.sample(1000).to_numpy()\n",
    "\n",
    "# PC algorithm\n",
    "graph = pc(data, alpha=0.05)\n",
    "\n",
    "# Visualize\n",
    "GraphUtils.to_pydot(graph.G, labels=wine_data.columns).write_png(\"wine_graph.png\")\n"
   ],
   "metadata": {
    "collapsed": false,
    "ExecuteTime": {
     "start_time": "2025-05-13T13:03:23.748810Z",
     "end_time": "2025-05-13T13:03:25.136864Z"
    }
   }
  },
  {
   "cell_type": "code",
   "execution_count": 6,
   "outputs": [
    {
     "data": {
      "text/plain": "<Figure size 640x480 with 1 Axes>",
      "image/png": "[encoded data removed]"
     },
     "metadata": {},
     "output_type": "display_data"
    }
   ],
   "source": [
    "from castle.algorithms import PC\n",
    "import networkx as nx\n",
    "import pandas as pd\n",
    "\n",
    "# Use smaller sample\n",
    "data = wine_data.sample(1000).to_numpy()\n",
    "\n",
    "model = PC()\n",
    "model.learn(data)\n",
    "\n",
    "G = nx.from_numpy_array(model.causal_matrix, create_using=nx.DiGraph)\n",
    "layout = nx.spring_layout(G)\n",
    "\n",
    "nx.draw_networkx(G, layout, with_labels=True,\n",
    "                 node_size=50, font_size=4)\n",
    "nx.draw_networkx_edge_labels(G, pos=layout,\n",
    "                             font_size=3)\n",
    "\n",
    "plt.savefig(\"GCastle_PC.pdf\")\n"
   ],
   "metadata": {
    "collapsed": false,
    "ExecuteTime": {
     "start_time": "2025-05-13T13:03:30.347881Z",
     "end_time": "2025-05-13T13:03:31.514732Z"
    }
   }
  },
  {
   "cell_type": "code",
   "execution_count": 22,
   "outputs": [
    {
     "ename": "ModuleNotFoundError",
     "evalue": "No module named 'notears'",
     "output_type": "error",
     "traceback": [
      "\u001B[1;31m---------------------------------------------------------------------------\u001B[0m",
      "\u001B[1;31mModuleNotFoundError\u001B[0m                       Traceback (most recent call last)",
      "Cell \u001B[1;32mIn[22], line 1\u001B[0m\n\u001B[1;32m----> 1\u001B[0m \u001B[38;5;28;01mfrom\u001B[39;00m\u001B[38;5;250m \u001B[39m\u001B[38;5;21;01mnotears\u001B[39;00m\u001B[38;5;21;01m.\u001B[39;00m\u001B[38;5;21;01mlinear\u001B[39;00m\u001B[38;5;250m \u001B[39m\u001B[38;5;28;01mimport\u001B[39;00m notears_linear\n\u001B[0;32m      2\u001B[0m \u001B[38;5;28;01mimport\u001B[39;00m\u001B[38;5;250m \u001B[39m\u001B[38;5;21;01mnumpy\u001B[39;00m\u001B[38;5;250m \u001B[39m\u001B[38;5;28;01mas\u001B[39;00m\u001B[38;5;250m \u001B[39m\u001B[38;5;21;01mnp\u001B[39;00m\n\u001B[0;32m      4\u001B[0m X \u001B[38;5;241m=\u001B[39m wine_data\u001B[38;5;241m.\u001B[39msample(\u001B[38;5;241m1000\u001B[39m)\u001B[38;5;241m.\u001B[39mto_numpy()  \u001B[38;5;66;03m# NOTEARS assumes continuous data\u001B[39;00m\n",
      "\u001B[1;31mModuleNotFoundError\u001B[0m: No module named 'notears'"
     ]
    }
   ],
   "source": [
    "from notears.linear import notears_linear\n",
    "import numpy as np\n",
    "\n",
    "X = wine_data.sample(1000).to_numpy()  # NOTEARS assumes continuous data\n",
    "W_est = notears_linear(X, lambda1=0.01)\n",
    "\n",
    "print(W_est)  # Adjacency matrix of causal structure\n"
   ],
   "metadata": {
    "collapsed": false
   }
  },
  {
   "cell_type": "code",
   "execution_count": 23,
   "outputs": [
    {
     "ename": "ModuleNotFoundError",
     "evalue": "No module named 'lingam'",
     "output_type": "error",
     "traceback": [
      "\u001B[1;31m---------------------------------------------------------------------------\u001B[0m",
      "\u001B[1;31mModuleNotFoundError\u001B[0m                       Traceback (most recent call last)",
      "Cell \u001B[1;32mIn[23], line 1\u001B[0m\n\u001B[1;32m----> 1\u001B[0m \u001B[38;5;28;01mfrom\u001B[39;00m\u001B[38;5;250m \u001B[39m\u001B[38;5;21;01mlingam\u001B[39;00m\u001B[38;5;250m \u001B[39m\u001B[38;5;28;01mimport\u001B[39;00m DirectLiNGAM\n\u001B[0;32m      2\u001B[0m \u001B[38;5;28;01mimport\u001B[39;00m\u001B[38;5;250m \u001B[39m\u001B[38;5;21;01mnumpy\u001B[39;00m\u001B[38;5;250m \u001B[39m\u001B[38;5;28;01mas\u001B[39;00m\u001B[38;5;250m \u001B[39m\u001B[38;5;21;01mnp\u001B[39;00m\n\u001B[0;32m      4\u001B[0m model \u001B[38;5;241m=\u001B[39m DirectLiNGAM()\n",
      "\u001B[1;31mModuleNotFoundError\u001B[0m: No module named 'lingam'"
     ]
    }
   ],
   "source": [
    "from lingam import DirectLiNGAM\n",
    "import numpy as np\n",
    "\n",
    "model = DirectLiNGAM()\n",
    "X = wine_data.sample(1000).to_numpy()\n",
    "\n",
    "model.fit(X)\n",
    "\n",
    "# Print adjacency matrix\n",
    "print(model.adjacency_matrix_)\n"
   ],
   "metadata": {
    "collapsed": false
   }
  },
  {
   "cell_type": "markdown",
   "source": [
    "INFERENCE"
   ],
   "metadata": {
    "collapsed": false
   }
  },
  {
   "cell_type": "code",
   "execution_count": 7,
   "outputs": [
    {
     "name": "stdout",
     "output_type": "stream",
     "text": [
      "Requirement already satisfied: dowhy in c:\\users\\dnedi\\pycharmprojects\\causaldiscoveryproject\\venv\\lib\\site-packages (0.12)\n",
      "Requirement already satisfied: causal-learn>=0.1.3.0 in c:\\users\\dnedi\\pycharmprojects\\causaldiscoveryproject\\venv\\lib\\site-packages (from dowhy) (0.1.4.1)\n",
      "Requirement already satisfied: cvxpy>=1.2.2 in c:\\users\\dnedi\\pycharmprojects\\causaldiscoveryproject\\venv\\lib\\site-packages (from dowhy) (1.6.5)\n",
      "Requirement already satisfied: cython<3.0 in c:\\users\\dnedi\\pycharmprojects\\causaldiscoveryproject\\venv\\lib\\site-packages (from dowhy) (0.29.37)\n",
      "Requirement already satisfied: joblib>=1.1.0 in c:\\users\\dnedi\\pycharmprojects\\causaldiscoveryproject\\venv\\lib\\site-packages (from dowhy) (1.5.0)\n",
      "Requirement already satisfied: networkx>=2.8.5 in c:\\users\\dnedi\\pycharmprojects\\causaldiscoveryproject\\venv\\lib\\site-packages (from dowhy) (3.2.1)\n",
      "Requirement already satisfied: numba>=0.59 in c:\\users\\dnedi\\pycharmprojects\\causaldiscoveryproject\\venv\\lib\\site-packages (from dowhy) (0.60.0)\n",
      "Requirement already satisfied: numpy>1.0 in c:\\users\\dnedi\\pycharmprojects\\causaldiscoveryproject\\venv\\lib\\site-packages (from dowhy) (1.26.4)\n",
      "Requirement already satisfied: pandas>1.0 in c:\\users\\dnedi\\pycharmprojects\\causaldiscoveryproject\\venv\\lib\\site-packages (from dowhy) (2.2.3)\n",
      "Requirement already satisfied: scikit-learn>1.0 in c:\\users\\dnedi\\pycharmprojects\\causaldiscoveryproject\\venv\\lib\\site-packages (from dowhy) (1.6.1)\n",
      "Requirement already satisfied: scipy>=1.10 in c:\\users\\dnedi\\pycharmprojects\\causaldiscoveryproject\\venv\\lib\\site-packages (from dowhy) (1.13.1)\n",
      "Requirement already satisfied: statsmodels>=0.13.5 in c:\\users\\dnedi\\pycharmprojects\\causaldiscoveryproject\\venv\\lib\\site-packages (from dowhy) (0.14.4)\n",
      "Requirement already satisfied: sympy>=1.10.1 in c:\\users\\dnedi\\pycharmprojects\\causaldiscoveryproject\\venv\\lib\\site-packages (from dowhy) (1.14.0)\n",
      "Requirement already satisfied: tqdm>=4.64.0 in c:\\users\\dnedi\\pycharmprojects\\causaldiscoveryproject\\venv\\lib\\site-packages (from dowhy) (4.67.1)\n",
      "Requirement already satisfied: graphviz in c:\\users\\dnedi\\pycharmprojects\\causaldiscoveryproject\\venv\\lib\\site-packages (from causal-learn>=0.1.3.0->dowhy) (0.20.3)\n",
      "Requirement already satisfied: matplotlib in c:\\users\\dnedi\\pycharmprojects\\causaldiscoveryproject\\venv\\lib\\site-packages (from causal-learn>=0.1.3.0->dowhy) (3.9.4)\n",
      "Requirement already satisfied: pydot in c:\\users\\dnedi\\pycharmprojects\\causaldiscoveryproject\\venv\\lib\\site-packages (from causal-learn>=0.1.3.0->dowhy) (4.0.0)\n",
      "Requirement already satisfied: momentchi2 in c:\\users\\dnedi\\pycharmprojects\\causaldiscoveryproject\\venv\\lib\\site-packages (from causal-learn>=0.1.3.0->dowhy) (0.1.8)\n",
      "Requirement already satisfied: osqp>=0.6.2 in c:\\users\\dnedi\\pycharmprojects\\causaldiscoveryproject\\venv\\lib\\site-packages (from cvxpy>=1.2.2->dowhy) (1.0.4)\n",
      "Requirement already satisfied: clarabel>=0.5.0 in c:\\users\\dnedi\\pycharmprojects\\causaldiscoveryproject\\venv\\lib\\site-packages (from cvxpy>=1.2.2->dowhy) (0.10.0)\n",
      "Requirement already satisfied: scs>=3.2.4.post1 in c:\\users\\dnedi\\pycharmprojects\\causaldiscoveryproject\\venv\\lib\\site-packages (from cvxpy>=1.2.2->dowhy) (3.2.7.post2)\n",
      "Requirement already satisfied: llvmlite<0.44,>=0.43.0dev0 in c:\\users\\dnedi\\pycharmprojects\\causaldiscoveryproject\\venv\\lib\\site-packages (from numba>=0.59->dowhy) (0.43.0)\n",
      "Requirement already satisfied: jinja2 in c:\\users\\dnedi\\pycharmprojects\\causaldiscoveryproject\\venv\\lib\\site-packages (from osqp>=0.6.2->cvxpy>=1.2.2->dowhy) (3.1.6)\n",
      "Requirement already satisfied: setuptools in c:\\users\\dnedi\\pycharmprojects\\causaldiscoveryproject\\venv\\lib\\site-packages (from osqp>=0.6.2->cvxpy>=1.2.2->dowhy) (65.5.1)\n",
      "Requirement already satisfied: python-dateutil>=2.8.2 in c:\\users\\dnedi\\pycharmprojects\\causaldiscoveryproject\\venv\\lib\\site-packages (from pandas>1.0->dowhy) (2.9.0.post0)\n",
      "Requirement already satisfied: pytz>=2020.1 in c:\\users\\dnedi\\pycharmprojects\\causaldiscoveryproject\\venv\\lib\\site-packages (from pandas>1.0->dowhy) (2025.2)\n",
      "Requirement already satisfied: tzdata>=2022.7 in c:\\users\\dnedi\\pycharmprojects\\causaldiscoveryproject\\venv\\lib\\site-packages (from pandas>1.0->dowhy) (2025.2)\n",
      "Requirement already satisfied: six>=1.5 in c:\\users\\dnedi\\pycharmprojects\\causaldiscoveryproject\\venv\\lib\\site-packages (from python-dateutil>=2.8.2->pandas>1.0->dowhy) (1.17.0)\n",
      "Requirement already satisfied: threadpoolctl>=3.1.0 in c:\\users\\dnedi\\pycharmprojects\\causaldiscoveryproject\\venv\\lib\\site-packages (from scikit-learn>1.0->dowhy) (3.6.0)\n",
      "Requirement already satisfied: patsy>=0.5.6 in c:\\users\\dnedi\\pycharmprojects\\causaldiscoveryproject\\venv\\lib\\site-packages (from statsmodels>=0.13.5->dowhy) (1.0.1)\n",
      "Requirement already satisfied: packaging>=21.3 in c:\\users\\dnedi\\pycharmprojects\\causaldiscoveryproject\\venv\\lib\\site-packages (from statsmodels>=0.13.5->dowhy) (25.0)\n",
      "Requirement already satisfied: mpmath<1.4,>=1.1.0 in c:\\users\\dnedi\\pycharmprojects\\causaldiscoveryproject\\venv\\lib\\site-packages (from sympy>=1.10.1->dowhy) (1.3.0)\n",
      "Requirement already satisfied: colorama in c:\\users\\dnedi\\pycharmprojects\\causaldiscoveryproject\\venv\\lib\\site-packages (from tqdm>=4.64.0->dowhy) (0.4.6)\n",
      "Requirement already satisfied: MarkupSafe>=2.0 in c:\\users\\dnedi\\pycharmprojects\\causaldiscoveryproject\\venv\\lib\\site-packages (from jinja2->osqp>=0.6.2->cvxpy>=1.2.2->dowhy) (3.0.2)\n",
      "Requirement already satisfied: contourpy>=1.0.1 in c:\\users\\dnedi\\pycharmprojects\\causaldiscoveryproject\\venv\\lib\\site-packages (from matplotlib->causal-learn>=0.1.3.0->dowhy) (1.3.0)\n",
      "Requirement already satisfied: cycler>=0.10 in c:\\users\\dnedi\\pycharmprojects\\causaldiscoveryproject\\venv\\lib\\site-packages (from matplotlib->causal-learn>=0.1.3.0->dowhy) (0.12.1)\n",
      "Requirement already satisfied: fonttools>=4.22.0 in c:\\users\\dnedi\\pycharmprojects\\causaldiscoveryproject\\venv\\lib\\site-packages (from matplotlib->causal-learn>=0.1.3.0->dowhy) (4.57.0)\n",
      "Requirement already satisfied: kiwisolver>=1.3.1 in c:\\users\\dnedi\\pycharmprojects\\causaldiscoveryproject\\venv\\lib\\site-packages (from matplotlib->causal-learn>=0.1.3.0->dowhy) (1.4.7)\n",
      "Requirement already satisfied: pillow>=8 in c:\\users\\dnedi\\pycharmprojects\\causaldiscoveryproject\\venv\\lib\\site-packages (from matplotlib->causal-learn>=0.1.3.0->dowhy) (11.2.1)\n",
      "Requirement already satisfied: pyparsing>=2.3.1 in c:\\users\\dnedi\\pycharmprojects\\causaldiscoveryproject\\venv\\lib\\site-packages (from matplotlib->causal-learn>=0.1.3.0->dowhy) (3.2.3)\n",
      "Requirement already satisfied: importlib-resources>=3.2.0 in c:\\users\\dnedi\\pycharmprojects\\causaldiscoveryproject\\venv\\lib\\site-packages (from matplotlib->causal-learn>=0.1.3.0->dowhy) (6.5.2)\n",
      "Requirement already satisfied: zipp>=3.1.0 in c:\\users\\dnedi\\pycharmprojects\\causaldiscoveryproject\\venv\\lib\\site-packages (from importlib-resources>=3.2.0->matplotlib->causal-learn>=0.1.3.0->dowhy) (3.21.0)\n"
     ]
    },
    {
     "name": "stderr",
     "output_type": "stream",
     "text": [
      "2025-05-13 13:05:05,513 - C:\\Users\\dnedi\\PycharmProjects\\CausalDiscoveryProject\\venv\\lib\\site-packages\\dowhy\\causal_model.py[line:77] - WARNING: Causal Graph not provided. DoWhy will construct a graph based on data inputs.\n",
      "2025-05-13 13:05:05,514 - C:\\Users\\dnedi\\PycharmProjects\\CausalDiscoveryProject\\venv\\lib\\site-packages\\dowhy\\causal_model.py[line:506] - INFO: Model to find the causal effect of treatment ['alcohol'] on outcome ['quality']\n",
      "1 variables are assumed unobserved because they are not in the dataset. Configure the logging level to `logging.WARNING` or higher for additional details.\n",
      "2025-05-13 13:05:05,515 - C:\\Users\\dnedi\\PycharmProjects\\CausalDiscoveryProject\\venv\\lib\\site-packages\\dowhy\\causal_model.py[line:588] - WARNING: The graph defines 6 variables. 5 were found in the dataset and will be analyzed as observed variables. 1 were not found in the dataset and will be analyzed as unobserved variables. The observed variables are: '['alcohol', 'density', 'pH', 'quality', 'sulphates']'. The unobserved variables are: '['volatile acidity']'. If this matches your expectations for observations, please continue. If you expected any of the unobserved variables to be in the dataframe, please check for typos.\n",
      "2025-05-13 13:05:05,515 - C:\\Users\\dnedi\\PycharmProjects\\CausalDiscoveryProject\\venv\\lib\\site-packages\\dowhy\\causal_model.py[line:614] - WARNING: There are an additional 7 variables in the dataset that are not in the graph. Variable names are: '['chlorides', 'citric_acid', 'fixed_acidity', 'free_sulfur_dioxide', 'residual_sugar', 'total_sulfur_dioxide', 'volatile_acidity']'\n",
      "2025-05-13 13:05:05,518 - C:\\Users\\dnedi\\PycharmProjects\\CausalDiscoveryProject\\venv\\lib\\site-packages\\dowhy\\causal_identifier\\auto_identifier.py[line:768] - WARNING: Backdoor identification failed.\n",
      "2025-05-13 13:05:05,519 - C:\\Users\\dnedi\\PycharmProjects\\CausalDiscoveryProject\\venv\\lib\\site-packages\\dowhy\\causal_identifier\\auto_identifier.py[line:260] - INFO: Instrumental variables for treatment and outcome:[]\n",
      "2025-05-13 13:05:05,520 - C:\\Users\\dnedi\\PycharmProjects\\CausalDiscoveryProject\\venv\\lib\\site-packages\\dowhy\\causal_identifier\\auto_identifier.py[line:275] - INFO: Frontdoor variables for treatment and outcome:[]\n",
      "2025-05-13 13:05:05,520 - C:\\Users\\dnedi\\PycharmProjects\\CausalDiscoveryProject\\venv\\lib\\site-packages\\dowhy\\causal_model.py[line:330] - INFO: linear_regression\n",
      "2025-05-13 13:05:05,521 - C:\\Users\\dnedi\\PycharmProjects\\CausalDiscoveryProject\\venv\\lib\\site-packages\\dowhy\\causal_estimators\\linear_regression_estimator.py[line:70] - INFO: INFO: Using Linear Regression Estimator\n",
      "2025-05-13 13:05:05,522 - C:\\Users\\dnedi\\PycharmProjects\\CausalDiscoveryProject\\venv\\lib\\site-packages\\dowhy\\causal_estimator.py[line:746] - ERROR: No valid identified estimand available.\n"
     ]
    },
    {
     "name": "stdout",
     "output_type": "stream",
     "text": [
      "Estimated Effect: None\n"
     ]
    }
   ],
   "source": [
    "!pip install dowhy\n",
    "from dowhy import CausalModel\n",
    "\n",
    "# Example: Let's assume 'alcohol' is the treatment\n",
    "model = CausalModel(\n",
    "    data=wine_data,\n",
    "    treatment='alcohol',\n",
    "    outcome='quality',\n",
    "    common_causes=['volatile acidity', 'sulphates', 'pH', 'density']\n",
    ")\n",
    "\n",
    "identified_estimand = model.identify_effect()\n",
    "estimate = model.estimate_effect(identified_estimand, method_name=\"backdoor.linear_regression\")\n",
    "print(\"Estimated Effect:\", estimate.value)\n"
   ],
   "metadata": {
    "collapsed": false,
    "ExecuteTime": {
     "start_time": "2025-05-13T13:05:01.329181Z",
     "end_time": "2025-05-13T13:05:05.536175Z"
    }
   }
  },
  {
   "cell_type": "code",
   "execution_count": null,
   "outputs": [],
   "source": [],
   "metadata": {
    "collapsed": false
   }
  }
 ],
 "metadata": {
  "kernelspec": {
   "display_name": "Python 3",
   "language": "python",
   "name": "python3"
  },
  "language_info": {
   "codemirror_mode": {
    "name": "ipython",
    "version": 2
   },
   "file_extension": ".py",
   "mimetype": "text/x-python",
   "name": "python",
   "nbconvert_exporter": "python",
   "pygments_lexer": "ipython2",
   "version": "2.7.6"
  }
 },
 "nbformat": 4,
 "nbformat_minor": 0
}
